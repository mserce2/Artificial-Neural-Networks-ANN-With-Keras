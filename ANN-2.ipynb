{
 "cells": [
  {
   "cell_type": "code",
   "execution_count": 1,
   "metadata": {},
   "outputs": [
    {
     "name": "stderr",
     "output_type": "stream",
     "text": [
      "Using TensorFlow backend.\n"
     ]
    }
   ],
   "source": [
    "from keras.models import Sequential\n",
    "from keras.layers.core import Dense\n",
    "from keras.optimizers import SGD\n"
   ]
  },
  {
   "cell_type": "code",
   "execution_count": 2,
   "metadata": {},
   "outputs": [],
   "source": [
    "#keras içindeki sayıları barındıran hazır bir verisetini kullnacağız\n",
    "from keras.datasets import mnist"
   ]
  },
  {
   "cell_type": "code",
   "execution_count": 3,
   "metadata": {},
   "outputs": [],
   "source": [
    "(x_train, y_train), (x_test,y_test)=mnist.load_data()\n",
    "x_train=x_train.reshape(60000,784)\n",
    "x_test=x_test.reshape(10000,784) #784 olmasının nedeni 28x28 piksel den geliyor"
   ]
  },
  {
   "cell_type": "code",
   "execution_count": 4,
   "metadata": {},
   "outputs": [],
   "source": [
    "#Yapay sinir ağını oluşturmak için gerekli objemizi yaratıyoruz\n",
    "model=Sequential()"
   ]
  },
  {
   "cell_type": "code",
   "execution_count": 5,
   "metadata": {},
   "outputs": [
    {
     "name": "stderr",
     "output_type": "stream",
     "text": [
      "D:\\anaconda3\\envs\\tensorflow\\lib\\site-packages\\ipykernel_launcher.py:4: UserWarning: Update your `Dense` call to the Keras 2 API: `Dense(input_dim=784, activation=\"relu\", units=50, kernel_initializer=\"uniform\")`\n",
      "  after removing the cwd from sys.path.\n"
     ]
    }
   ],
   "source": [
    "model.add(Dense(input_dim=x_train.shape[1],\n",
    "                output_dim=50,\n",
    "                init=\"uniform\",\n",
    "                activation=\"relu\"\n",
    "               \n",
    "               ))\n",
    "#relu yerine tanh kullanıp arada ki farka mutlaka bakınız :))"
   ]
  },
  {
   "cell_type": "code",
   "execution_count": 6,
   "metadata": {},
   "outputs": [
    {
     "name": "stderr",
     "output_type": "stream",
     "text": [
      "D:\\anaconda3\\envs\\tensorflow\\lib\\site-packages\\ipykernel_launcher.py:5: UserWarning: Update your `Dense` call to the Keras 2 API: `Dense(50, kernel_initializer=\"uniform\")`\n",
      "  \"\"\"\n",
      "D:\\anaconda3\\envs\\tensorflow\\lib\\site-packages\\ipykernel_launcher.py:9: UserWarning: Update your `Dense` call to the Keras 2 API: `Dense(64, kernel_initializer=\"uniform\")`\n",
      "  if __name__ == '__main__':\n"
     ]
    }
   ],
   "source": [
    "#Şimdi sinir ağımıza farklı katmanlar ekleyelim(yani hidden layer eklemeye devam ediyoruz)\n",
    "from keras.layers.core import Activation\n",
    "from keras.layers.core import Dropout\n",
    "\n",
    "model.add(Dense(50, init='uniform'))  #Giriş katmanımızı yukarıda eklediğimiz için artık input_dim değişkenine ihtiyacımız yok\n",
    "model.add(Activation('tanh'))\n",
    "model.add(Dropout(0.5)) #weight'lerin yarısını düşüren bir katman ekliyoruz asıl amaç overfitting(Aşırı öğrenme sonucu modelin ezber yapması) 'i engellemek.\n",
    "\n",
    "model.add(Dense(64, init='uniform'))\n",
    "model.add(Activation('relu'))\n"
   ]
  },
  {
   "cell_type": "markdown",
   "metadata": {},
   "source": [
    "Evet bu adımda çıkış katmanımızı ayarlayacağız.10 adet sayımız olduğu için 10 tane sınıfımız olacak yani 10 çıkış demek\n",
    "\n",
    "Modeli eğitirken doğru rakama karşılık gelen çıkışın değerini ‘1’, diğer tüm çıkışların değerinin de ‘0’ olmasını sağlardık.\n",
    "\n",
    "Sınıfları bu şekilde temsil etmeye OHE (one-hot encoding) deniyor. \n",
    "\n",
    "Çıkış aktivasyonu olarak da softmax kullanıyoruz.Matematiksel olarak grafiklerini inceliyebilir ,tanh relu..vb fonksiyonları kullanıp aradaki farkları inceleyebilirsiniz.\n",
    "\n",
    "Bu sayede doğruluk oranı %kaç değişiyor gözlemleyebilirsiniz.\n"
   ]
  },
  {
   "cell_type": "code",
   "execution_count": 7,
   "metadata": {},
   "outputs": [
    {
     "name": "stderr",
     "output_type": "stream",
     "text": [
      "D:\\anaconda3\\envs\\tensorflow\\lib\\site-packages\\ipykernel_launcher.py:1: UserWarning: Update your `Dense` call to the Keras 2 API: `Dense(10, kernel_initializer=\"uniform\")`\n",
      "  \"\"\"Entry point for launching an IPython kernel.\n"
     ]
    }
   ],
   "source": [
    "\n",
    "model.add(Dense(10,init=\"uniform\"))\n",
    "model.add(Activation(\"softmax\"))\n",
    "\n",
    "\n"
   ]
  },
  {
   "cell_type": "code",
   "execution_count": 8,
   "metadata": {},
   "outputs": [],
   "source": [
    "#Ayrıca ohe y_train vektörümüzü de ohe formatına çevirmeyi unutmamalıyız\n",
    "#Çok şanslıyız ki Keras’taki to_categorical() yardımcı fonksiyonu bunu bizim için yapıyor\n",
    "from keras.utils.np_utils import to_categorical\n",
    "y_train_ohe=to_categorical(y_train)"
   ]
  },
  {
   "cell_type": "markdown",
   "metadata": {},
   "source": [
    "Artık modelimiz hazır ama compile etmemiz lazım çalıştırmamız için\n",
    "\n",
    "Bunun için bir optimizasyon algoritmasına ihtiyacımız olacak. \n",
    "\n",
    "Bu örnekte ben SGD (Stochastic Gradient Descent) kullanacağım"
   ]
  },
  {
   "cell_type": "code",
   "execution_count": 9,
   "metadata": {},
   "outputs": [],
   "source": [
    "#Hiç korkmamıza gerek yok :)\n",
    "\n",
    "sgd = SGD(lr=0.001, decay=1e-6, momentum=0.9, nesterov=True) \n",
    "\n",
    "#lr, learning rate, yani öğrenme hızımız\n",
    "#Decay parametresi öğrenme hızımızı zamanla azaltıyor\n",
    "#Momentum yönteminde bir hız vektörü tutuyoruz ve her adımda bunu update ediyoruz(Genelde 0.9 ile başlanır)\n",
    "#Nesterov=True demek her adımdan sonra momentumu bizim için daha akıllı yapıyor :)"
   ]
  },
  {
   "cell_type": "code",
   "execution_count": 10,
   "metadata": {},
   "outputs": [],
   "source": [
    "#Compile Etme\n",
    "model.compile(loss=\"categorical_crossentropy\",optimizer=sgd) \n",
    "#\"categorical_crossentropy\" kavramı  Softmax ile kullanılan ve birden fazla sınıf için genelleştirilmiş \n",
    "#lojistik regresyondan başka bir şey değil :)\n"
   ]
  },
  {
   "cell_type": "markdown",
   "metadata": {},
   "source": [
    "Şimdi Modelimize data'mızı verip eğiteceğiz.Machine learning'den de bilidiğimiz model.fit(x,y) fonksiyonunu kullanacağız\n",
    "\n",
    "batch_size=500 anlamı her 500 örnek de bir adım atıyoruz\n",
    "\n",
    "nb_epoch=50 tüm veri setimizi 50 kere bu şekilde tekrarlıyoruz.(Eğitim Toplam 50 adım sürecek)\n",
    "\n",
    "validation_split=0.1=>Algoritmamızın %90 eğitim train, %10'nu test etmek için ayrılacak.60 bin resimden 600 tanesi test için ayrılır.\n",
    "\n",
    "Verbose ile de işlem sırasında ekrana ayrıntılı verilerin dökülmesini sağlıyoruz.\n",
    "\n",
    "\n",
    "\n",
    "    "
   ]
  },
  {
   "cell_type": "code",
   "execution_count": 11,
   "metadata": {
    "scrolled": true
   },
   "outputs": [
    {
     "name": "stderr",
     "output_type": "stream",
     "text": [
      "D:\\anaconda3\\envs\\tensorflow\\lib\\site-packages\\ipykernel_launcher.py:6: UserWarning: The `nb_epoch` argument in `fit` has been renamed `epochs`.\n",
      "  \n"
     ]
    },
    {
     "name": "stdout",
     "output_type": "stream",
     "text": [
      "Train on 48000 samples, validate on 12000 samples\n",
      "Epoch 1/70\n",
      "48000/48000 [==============================] - 1s 18us/step - loss: 2.2969 - val_loss: 2.2849\n",
      "Epoch 2/70\n",
      "48000/48000 [==============================] - 0s 10us/step - loss: 2.2749 - val_loss: 2.2575\n",
      "Epoch 3/70\n",
      "48000/48000 [==============================] - 1s 11us/step - loss: 2.2429 - val_loss: 2.2134\n",
      "Epoch 4/70\n",
      "48000/48000 [==============================] - 1s 11us/step - loss: 2.1890 - val_loss: 2.1388\n",
      "Epoch 5/70\n",
      "48000/48000 [==============================] - 0s 10us/step - loss: 2.0967 - val_loss: 2.0164\n",
      "Epoch 6/70\n",
      "48000/48000 [==============================] - 0s 10us/step - loss: 1.9554 - val_loss: 1.8446\n",
      "Epoch 7/70\n",
      "48000/48000 [==============================] - 1s 11us/step - loss: 1.7778 - val_loss: 1.6508\n",
      "Epoch 8/70\n",
      "48000/48000 [==============================] - 0s 10us/step - loss: 1.5955 - val_loss: 1.4627\n",
      "Epoch 9/70\n",
      "48000/48000 [==============================] - 1s 10us/step - loss: 1.4263 - val_loss: 1.2883\n",
      "Epoch 10/70\n",
      "48000/48000 [==============================] - 1s 10us/step - loss: 1.2728 - val_loss: 1.1319\n",
      "Epoch 11/70\n",
      "48000/48000 [==============================] - 1s 11us/step - loss: 1.1402 - val_loss: 0.9998\n",
      "Epoch 12/70\n",
      "48000/48000 [==============================] - 0s 10us/step - loss: 1.0296 - val_loss: 0.8940\n",
      "Epoch 13/70\n",
      "48000/48000 [==============================] - 1s 11us/step - loss: 0.9380 - val_loss: 0.8015\n",
      "Epoch 14/70\n",
      "48000/48000 [==============================] - 1s 11us/step - loss: 0.8571 - val_loss: 0.7246\n",
      "Epoch 15/70\n",
      "48000/48000 [==============================] - 1s 11us/step - loss: 0.7900 - val_loss: 0.6608\n",
      "Epoch 16/70\n",
      "48000/48000 [==============================] - 1s 11us/step - loss: 0.7306 - val_loss: 0.6040\n",
      "Epoch 17/70\n",
      "48000/48000 [==============================] - 1s 11us/step - loss: 0.6718 - val_loss: 0.5512\n",
      "Epoch 18/70\n",
      "48000/48000 [==============================] - 1s 11us/step - loss: 0.6290 - val_loss: 0.5034\n",
      "Epoch 19/70\n",
      "48000/48000 [==============================] - 1s 11us/step - loss: 0.5842 - val_loss: 0.4611\n",
      "Epoch 20/70\n",
      "48000/48000 [==============================] - 1s 10us/step - loss: 0.5438 - val_loss: 0.4249\n",
      "Epoch 21/70\n",
      "48000/48000 [==============================] - 1s 11us/step - loss: 0.5034 - val_loss: 0.3914\n",
      "Epoch 22/70\n",
      "48000/48000 [==============================] - 0s 10us/step - loss: 0.4732 - val_loss: 0.3621\n",
      "Epoch 23/70\n",
      "48000/48000 [==============================] - 0s 10us/step - loss: 0.4434 - val_loss: 0.3397\n",
      "Epoch 24/70\n",
      "48000/48000 [==============================] - 0s 10us/step - loss: 0.4210 - val_loss: 0.3236\n",
      "Epoch 25/70\n",
      "48000/48000 [==============================] - 0s 10us/step - loss: 0.3977 - val_loss: 0.3040\n",
      "Epoch 26/70\n",
      "48000/48000 [==============================] - 1s 12us/step - loss: 0.3750 - val_loss: 0.2904\n",
      "Epoch 27/70\n",
      "48000/48000 [==============================] - 0s 10us/step - loss: 0.3583 - val_loss: 0.2788\n",
      "Epoch 28/70\n",
      "48000/48000 [==============================] - 0s 10us/step - loss: 0.3401 - val_loss: 0.2679\n",
      "Epoch 29/70\n",
      "48000/48000 [==============================] - 1s 11us/step - loss: 0.3299 - val_loss: 0.2620\n",
      "Epoch 30/70\n",
      "48000/48000 [==============================] - 1s 11us/step - loss: 0.3183 - val_loss: 0.2491\n",
      "Epoch 31/70\n",
      "48000/48000 [==============================] - 1s 10us/step - loss: 0.3079 - val_loss: 0.2445\n",
      "Epoch 32/70\n",
      "48000/48000 [==============================] - 1s 11us/step - loss: 0.2960 - val_loss: 0.2355\n",
      "Epoch 33/70\n",
      "48000/48000 [==============================] - 1s 11us/step - loss: 0.2850 - val_loss: 0.2319\n",
      "Epoch 34/70\n",
      "48000/48000 [==============================] - 1s 11us/step - loss: 0.2767 - val_loss: 0.2255\n",
      "Epoch 35/70\n",
      "48000/48000 [==============================] - 1s 11us/step - loss: 0.2655 - val_loss: 0.2206\n",
      "Epoch 36/70\n",
      "48000/48000 [==============================] - 0s 10us/step - loss: 0.2610 - val_loss: 0.2184\n",
      "Epoch 37/70\n",
      "48000/48000 [==============================] - 0s 10us/step - loss: 0.2524 - val_loss: 0.2130\n",
      "Epoch 38/70\n",
      "48000/48000 [==============================] - 0s 10us/step - loss: 0.2491 - val_loss: 0.2135\n",
      "Epoch 39/70\n",
      "48000/48000 [==============================] - 1s 10us/step - loss: 0.2430 - val_loss: 0.2084\n",
      "Epoch 40/70\n",
      "48000/48000 [==============================] - 0s 10us/step - loss: 0.2319 - val_loss: 0.2090\n",
      "Epoch 41/70\n",
      "48000/48000 [==============================] - 0s 10us/step - loss: 0.2287 - val_loss: 0.2020\n",
      "Epoch 42/70\n",
      "48000/48000 [==============================] - 0s 10us/step - loss: 0.2211 - val_loss: 0.1979\n",
      "Epoch 43/70\n",
      "48000/48000 [==============================] - 0s 10us/step - loss: 0.2193 - val_loss: 0.1965\n",
      "Epoch 44/70\n",
      "48000/48000 [==============================] - 0s 10us/step - loss: 0.2133 - val_loss: 0.1938\n",
      "Epoch 45/70\n",
      "48000/48000 [==============================] - 0s 10us/step - loss: 0.2087 - val_loss: 0.1953\n",
      "Epoch 46/70\n",
      "48000/48000 [==============================] - 0s 10us/step - loss: 0.2049 - val_loss: 0.1887\n",
      "Epoch 47/70\n",
      "48000/48000 [==============================] - 0s 10us/step - loss: 0.1994 - val_loss: 0.1880\n",
      "Epoch 48/70\n",
      "48000/48000 [==============================] - 0s 10us/step - loss: 0.1964 - val_loss: 0.1864\n",
      "Epoch 49/70\n",
      "48000/48000 [==============================] - 0s 10us/step - loss: 0.1926 - val_loss: 0.1854\n",
      "Epoch 50/70\n",
      "48000/48000 [==============================] - 1s 10us/step - loss: 0.1886 - val_loss: 0.1862\n",
      "Epoch 51/70\n",
      "48000/48000 [==============================] - 0s 10us/step - loss: 0.1817 - val_loss: 0.1851\n",
      "Epoch 52/70\n",
      "48000/48000 [==============================] - 0s 10us/step - loss: 0.1832 - val_loss: 0.1835\n",
      "Epoch 53/70\n",
      "48000/48000 [==============================] - 0s 10us/step - loss: 0.1811 - val_loss: 0.1830\n",
      "Epoch 54/70\n",
      "48000/48000 [==============================] - 0s 10us/step - loss: 0.1749 - val_loss: 0.1792\n",
      "Epoch 55/70\n",
      "48000/48000 [==============================] - 0s 10us/step - loss: 0.1713 - val_loss: 0.1790\n",
      "Epoch 56/70\n",
      "48000/48000 [==============================] - 0s 10us/step - loss: 0.1698 - val_loss: 0.1769\n",
      "Epoch 57/70\n",
      "48000/48000 [==============================] - 0s 10us/step - loss: 0.1639 - val_loss: 0.1740\n",
      "Epoch 58/70\n",
      "48000/48000 [==============================] - 0s 10us/step - loss: 0.1626 - val_loss: 0.1766\n",
      "Epoch 59/70\n",
      "48000/48000 [==============================] - 1s 11us/step - loss: 0.1615 - val_loss: 0.1768\n",
      "Epoch 60/70\n",
      "48000/48000 [==============================] - 1s 11us/step - loss: 0.1557 - val_loss: 0.1748\n",
      "Epoch 61/70\n",
      "48000/48000 [==============================] - 1s 10us/step - loss: 0.1553 - val_loss: 0.1766\n",
      "Epoch 62/70\n",
      "48000/48000 [==============================] - 0s 10us/step - loss: 0.1523 - val_loss: 0.1736\n",
      "Epoch 63/70\n",
      "48000/48000 [==============================] - 1s 11us/step - loss: 0.1505 - val_loss: 0.1741\n",
      "Epoch 64/70\n",
      "48000/48000 [==============================] - 1s 11us/step - loss: 0.1490 - val_loss: 0.1788\n",
      "Epoch 65/70\n",
      "48000/48000 [==============================] - 1s 12us/step - loss: 0.1469 - val_loss: 0.1737\n",
      "Epoch 66/70\n",
      "48000/48000 [==============================] - 1s 11us/step - loss: 0.1453 - val_loss: 0.1764\n",
      "Epoch 67/70\n",
      "48000/48000 [==============================] - 1s 11us/step - loss: 0.1435 - val_loss: 0.1776\n",
      "Epoch 68/70\n",
      "48000/48000 [==============================] - 1s 11us/step - loss: 0.1392 - val_loss: 0.1741\n",
      "Epoch 69/70\n",
      "48000/48000 [==============================] - 0s 10us/step - loss: 0.1403 - val_loss: 0.1734\n",
      "Epoch 70/70\n",
      "48000/48000 [==============================] - 0s 10us/step - loss: 0.1374 - val_loss: 0.1742\n"
     ]
    },
    {
     "data": {
      "text/plain": [
       "<keras.callbacks.callbacks.History at 0x191f3aee6c8>"
      ]
     },
     "execution_count": 11,
     "metadata": {},
     "output_type": "execute_result"
    }
   ],
   "source": [
    "model.fit(x_train,\n",
    "          y_train_ohe,\n",
    "          nb_epoch=70,\n",
    "          batch_size=800,\n",
    "          validation_split=0.2,\n",
    "          verbose=1\n",
    "         )"
   ]
  },
  {
   "cell_type": "markdown",
   "metadata": {},
   "source": [
    "Evet görüldüğü gibi artık eğitim tamamlandı.Şuan test setimiz üzerinde tahminler yapmaya hazırız\n"
   ]
  },
  {
   "cell_type": "code",
   "execution_count": 12,
   "metadata": {},
   "outputs": [
    {
     "name": "stdout",
     "output_type": "stream",
     "text": [
      "10000/10000 [==============================] - 0s 39us/step\n"
     ]
    }
   ],
   "source": [
    "y_test_predections=model.predict_classes(x_test,verbose=1)"
   ]
  },
  {
   "cell_type": "code",
   "execution_count": 13,
   "metadata": {},
   "outputs": [
    {
     "name": "stdout",
     "output_type": "stream",
     "text": [
      "Test Accuracy:  95.38 %\n"
     ]
    }
   ],
   "source": [
    "#Artık y_test_predections üzerinden ne kadar doğru bildiğimizi inceleyebiliriz\n",
    "import numpy as np\n",
    "correct=np.sum(y_test_predections==y_test)\n",
    "print ('Test Accuracy: ', correct/float(y_test.shape[0])*100.0, '%')"
   ]
  },
  {
   "cell_type": "code",
   "execution_count": 14,
   "metadata": {},
   "outputs": [
    {
     "data": {
      "image/png": "[encoded data removed]",
      "text/plain": [
       "<IPython.core.display.Image object>"
      ]
     },
     "execution_count": 14,
     "metadata": {},
     "output_type": "execute_result"
    }
   ],
   "source": [
    "#Şimdi ise yaptığımız işlemleri görselleştirelim.\n",
    "\n",
    "#from keras.utils.visualize_util import plot\n",
    "from keras.utils import plot_model\n",
    "from IPython.display import Image\n",
    "plot_model(model, to_file=\"model.png\", show_shapes= True)\n",
    "Image(\"model.png\")"
   ]
  },
  {
   "cell_type": "code",
   "execution_count": null,
   "metadata": {},
   "outputs": [],
   "source": []
  },
  {
   "cell_type": "code",
   "execution_count": null,
   "metadata": {},
   "outputs": [],
   "source": []
  }
 ],
 "metadata": {
  "kernelspec": {
   "display_name": "Python [conda env:anaconda3-tensorflow]",
   "language": "python",
   "name": "conda-env-anaconda3-tensorflow-py"
  },
  "language_info": {
   "codemirror_mode": {
    "name": "ipython",
    "version": 3
   },
   "file_extension": ".py",
   "mimetype": "text/x-python",
   "name": "python",
   "nbconvert_exporter": "python",
   "pygments_lexer": "ipython3",
   "version": "3.7.7"
  }
 },
 "nbformat": 4,
 "nbformat_minor": 4
}
